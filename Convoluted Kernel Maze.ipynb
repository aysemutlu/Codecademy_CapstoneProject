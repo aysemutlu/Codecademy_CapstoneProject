{
 "cells": [
  {
   "cell_type": "code",
   "execution_count": 2,
   "metadata": {},
   "outputs": [],
   "source": [
    "from random import randint"
   ]
  },
  {
   "cell_type": "code",
   "execution_count": 3,
   "metadata": {},
   "outputs": [],
   "source": [
    "def build_maze(m,n,swag):\n",
    "    grid = []\n",
    "    grid = [['wall' for col in range(n)] for row in range(m)]\n",
    "    start_i, start_j = randint(0,m-1), randint(0,n-1)\n",
    "    grid[start_i][start_j] = 'start'\n",
    "    mow(grid,start_i,start_j)\n",
    "    explore_maze(grid, start_i, start_j, swag)\n",
    "    return grid"
   ]
  },
  {
   "cell_type": "code",
   "execution_count": 4,
   "metadata": {},
   "outputs": [],
   "source": [
    "def print_maze(grid):\n",
    "    for row in grid:\n",
    "        printable_row = ''\n",
    "        for cell in row:\n",
    "            if cell == 'wall':\n",
    "                char = '|'\n",
    "            elif cell == 'start':\n",
    "                char = 'X'\n",
    "            elif cell == 'empty':\n",
    "                char = ' '\n",
    "            else:\n",
    "                char = cell[0]\n",
    "            printable_row += char\n",
    "        print(printable_row)"
   ]
  },
  {
   "cell_type": "code",
   "execution_count": 5,
   "metadata": {},
   "outputs": [],
   "source": [
    "def mow(grid, i, j):\n",
    "    directions = ['U', 'D', 'L', 'R']\n",
    "    while len(directions) > 0:\n",
    "        directions_index = randint(0,len(directions)-1)\n",
    "        direction = directions.pop(directions_index)\n",
    "        if direction == 'U':\n",
    "            if i - 2 < 0:\n",
    "                continue\n",
    "            elif grid[i - 2][j] == 'wall':\n",
    "                grid[i - 1][j] = 'empty'\n",
    "                grid[i - 2][j] = 'empty'\n",
    "                mow(grid, i - 2, j)\n",
    "        elif direction == 'D':\n",
    "            if i + 2 >= len(grid):\n",
    "                continue\n",
    "            elif grid[i + 2][j] == 'wall':\n",
    "                grid[i + 1][j] = 'empty'\n",
    "                grid[i + 2][j] = 'empty'\n",
    "                mow(grid, i + 2, j)\n",
    "        elif direction == 'L':\n",
    "            if j - 2 < 0:\n",
    "                continue\n",
    "            elif grid[i][j-2] == 'wall':\n",
    "                grid[i][j-1] = 'empty'\n",
    "                grid[i][j-2] = 'empty'\n",
    "                mow(grid, i, j - 2)\n",
    "        else:\n",
    "            if j + 2 >= len(grid[0]):\n",
    "                continue\n",
    "            elif grid[i][j+2] == 'wall':\n",
    "                grid[i][j+1] = 'empty'\n",
    "                grid[i][j+2] = 'empty'\n",
    "                mow(grid, i, j+2)"
   ]
  },
  {
   "cell_type": "code",
   "execution_count": 8,
   "metadata": {},
   "outputs": [],
   "source": [
    "def explore_maze(grid, start_i, start_j, swag):\n",
    "    grid_copy = [row[:] for row in grid]\n",
    "    bfs_queue = [[start_i, start_j]]\n",
    "    directions = ['U','D', 'L', 'R']\n",
    "  \n",
    "    while bfs_queue:\n",
    "        i, j = bfs_queue.pop(0)\n",
    "        if grid[i][j] != 'start' and randint(1,10) == 1:\n",
    "            grid[i][j] = swag[randint(0, len(swag) - 1)]\n",
    "        grid_copy[i][j] = 'visited'\n",
    "        \n",
    "        for direction in directions:\n",
    "            explore_i, explore_j = i, j\n",
    "            if direction == 'U':\n",
    "                explore_i = i - 1\n",
    "            elif direction == 'D':\n",
    "                explore_i = i + 1\n",
    "            elif direction == 'L':\n",
    "                explore_j = j - 1\n",
    "            else:\n",
    "                explore_j = j + 1\n",
    "            if explore_i < 0 or explore_j < 0 or explore_i >= len(grid) or explore_j >= len(grid[0]):\n",
    "                continue\n",
    "        \n",
    "            elif grid_copy[explore_i][explore_j] != 'visited' and grid_copy[explore_i][explore_j] != 'wall':\n",
    "                bfs_queue.append([explore_i, explore_j])\n",
    "    grid[i][j] = 'end'"
   ]
  },
  {
   "cell_type": "code",
   "execution_count": 12,
   "metadata": {},
   "outputs": [
    {
     "name": "stdout",
     "output_type": "stream",
     "text": [
      "               |     |   \n",
      " ||||||||||| | | ||| | | \n",
      " w |         | | |X  | | \n",
      " ||| ||||||||| | ||||| ||\n",
      "p|   | |       | |       \n",
      " | ||| | ||||||| ||||||| \n",
      " | |         | |   |     \n",
      "|| | ||||||| | ||| | ||| \n",
      "   |   |c  | |  e|   |   \n",
      "p||||| | | | | ||||||| ||\n",
      " |    c| | |   |     |   \n",
      " ||||||| | ||| | ||| |||w\n",
      "     |   |   | |   | |   \n",
      " ||| | ||||| |||||w| | ||\n",
      "   |      c|       | wp  \n"
     ]
    }
   ],
   "source": [
    "print_maze(build_maze(15,25,['candy corn', 'werewolf', 'pumpkin']))"
   ]
  },
  {
   "cell_type": "code",
   "execution_count": null,
   "metadata": {},
   "outputs": [],
   "source": [
    "#print_maze(build_maze(5,10,None))"
   ]
  }
 ],
 "metadata": {
  "kernelspec": {
   "display_name": "Python 3",
   "language": "python",
   "name": "python3"
  },
  "language_info": {
   "codemirror_mode": {
    "name": "ipython",
    "version": 3
   },
   "file_extension": ".py",
   "mimetype": "text/x-python",
   "name": "python",
   "nbconvert_exporter": "python",
   "pygments_lexer": "ipython3",
   "version": "3.7.3"
  }
 },
 "nbformat": 4,
 "nbformat_minor": 2
}
